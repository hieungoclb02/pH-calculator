{
 "cells": [
  {
   "cell_type": "markdown",
   "id": "3a5bd746-8c78-4eb5-a714-1c0cd86eb025",
   "metadata": {},
   "source": [
    "# Calculate the pH for monoprotic acid/base solution"
   ]
  },
  {
   "cell_type": "code",
   "execution_count": 27,
   "id": "7e3c23e5-1b5c-46a2-8765-09c1c8da9bca",
   "metadata": {},
   "outputs": [
    {
     "name": "stdout",
     "output_type": "stream",
     "text": [
      "[H+] =  1.1506871238484794e-09\n",
      "pH = 8.939042746620116\n"
     ]
    }
   ],
   "source": [
    "solution ={'H+':[('HCl',0.5)],\n",
    "           'OH-':[('NaOH',0.6)],\n",
    "           'HA':[('AcOH',1.7378e-5 ,0.3)],\n",
    "           'A-':[('NH3', 5.7544e-10,0.3)]}\n",
    "\n",
    "from scipy.optimize import fsolve\n",
    "import numpy as np\n",
    "def dkp(solution, h):\n",
    "    H = h\n",
    "    OH = 10**(-14)/H\n",
    "    positive = 0\n",
    "    negative = OH - H\n",
    "    for i in solution['H+']:\n",
    "        negative += i[1]\n",
    "    for i in solution['OH-']:\n",
    "        positive += i[1]\n",
    "    for name, ka, conc in solution['HA']:\n",
    "        alpha = ka/(ka+H)\n",
    "        negative += conc*alpha\n",
    "    for name, ka, conc in solution['A-']:\n",
    "        alpha = H/(H+ka)\n",
    "        positive += conc*alpha\n",
    "    h1 = negative - positive\n",
    "    if h1 < 0:\n",
    "        h1 = 1e-14/(-h1)\n",
    "    return h1\n",
    "def h_cal(solution, h_guess):\n",
    "    def func(h):\n",
    "        return dkp(solution, h)\n",
    "    h_real=fsolve(func,h_guess)\n",
    "    return h_real[0]\n",
    "\n",
    "print('[H+] = ', h_cal(solution, 1e-9))\n",
    "print('pH =', -np.log10(h_cal(solution, 1e-9)))\n"
   ]
  },
  {
   "cell_type": "markdown",
   "id": "5c5a7647-511f-4b1c-bdb2-f003df561e1c",
   "metadata": {},
   "source": [
    "# Calculate the pH for all acid/base solution"
   ]
  },
  {
   "cell_type": "code",
   "execution_count": 30,
   "id": "55525ea3-6652-4f6c-b5a7-b49680f4990f",
   "metadata": {},
   "outputs": [
    {
     "name": "stdout",
     "output_type": "stream",
     "text": [
      "[H+] =  1.5353083571195963e-06\n",
      "pH = 5.8138043860858035\n"
     ]
    }
   ],
   "source": [
    "#Format solution:\n",
    "format_ = {'h_and_oh':[('C_H+ (1)','C_H+ (2)'),('C(OH-)(1)','C_OH- (2)')],\n",
    "           'HA':['name','ka','C_HA','C_A-'],\n",
    "            'H2A':[('name','ka1','ka2','C_H2A','C_HA-','C_A2-'),()],\n",
    "           'H3A': [('name', 'ka1', 'ka2','ka3','C_H3A','C_H2A-','C_HA2-','C_A3-'),()],\n",
    "           'H4A': [('name', 'ka1', 'ka2','ka3','ka4','C_H4A','C_H3A-','C_H2A2-','C_HA3-','C_A4-'),()]}\n",
    "solution = {'h_and_oh':[(1,0.2),(0.1,0.5)],\n",
    "            'HA':[],\n",
    "            'H2A':[('CO2', 4.46683592e-7,4.6773514e-11, 0.2,0.1,0.4)],\n",
    "           'H3A': [('H3PO4', 0.00707945784, 6.16595002e-8,4.7863009e-13,0.5,0,0.2,0.4)],\n",
    "           'H4A': []}\n",
    "\n",
    "from scipy.optimize import fsolve\n",
    "import numpy as np\n",
    "def dkp_multi(solution,h):\n",
    "    H=h\n",
    "    OH=1e-14/h\n",
    "    positive=0\n",
    "    negative=OH-h\n",
    "    for i in solution['h_and_oh']:\n",
    "        negative += sum(solution['h_and_oh'][0])\n",
    "        positive += sum(solution['h_and_oh'][1])\n",
    "    for name, ka1, ka2, c1, c2, c3 in solution['H2A']:\n",
    "        c0 = c1+c2+c3\n",
    "        alpha = (ka1*h+2*ka1*ka2)/(h**2+h*ka1+ka1*ka2)\n",
    "        negative += c0*alpha - c2 - 2*c3\n",
    "    for name, ka1, ka2, ka3, c1,c2,c3,c4 in solution['H3A']:\n",
    "        c0 =c1+c2+c3+c4\n",
    "        alpha = (ka1*h**2 + 2*h*ka1*ka2 + 3*ka1*ka2*ka3)/(h**3+h**2*ka1+h*ka1*ka2+ka1*ka2*ka3)\n",
    "        negative += c0*alpha - c2 -2*c3 -3*c4\n",
    "    if not solution['H4A'] is None:\n",
    "        for name, ka1,ka2,ka3,ka4,c1,c2,c3,c4,c5 in solution['H4A']:\n",
    "            c0 =c1+c2+c3+c4+c5\n",
    "            alpha = (ka1*h**3 + 2*h**2*ka1*ka2 + 3*h*ka1*ka2*ka3 + 4*ka1*ka2*ka3*ka4)/(h**4+h**3*ka1+h**2*ka1*ka2+h*ka1*ka2*ka3+ka1*ka2*ka3*ka4)\n",
    "            negative += c0*alpha - c2 -2*c3 -3*c4 -4*c5\n",
    "    h1 = negative - positive\n",
    "    if h1 < 0:\n",
    "        h1 = 1e-14/(-h1)\n",
    "    return h1\n",
    "def h_cal(solution, h_guess):\n",
    "    def func(h):\n",
    "        return dkp_multi(solution, h)\n",
    "    h_real=fsolve(func,h_guess)\n",
    "    return h_real[0]\n",
    "print('[H+] = ', h_cal(solution, 1e-12))\n",
    "print('pH =', -np.log10(h_cal(solution, 1e-9)))"
   ]
  },
  {
   "cell_type": "code",
   "execution_count": null,
   "id": "58d53417-4909-42a6-8b21-2a5388e57344",
   "metadata": {},
   "outputs": [],
   "source": []
  }
 ],
 "metadata": {
  "kernelspec": {
   "display_name": "Python 3 (ipykernel)",
   "language": "python",
   "name": "python3"
  },
  "language_info": {
   "codemirror_mode": {
    "name": "ipython",
    "version": 3
   },
   "file_extension": ".py",
   "mimetype": "text/x-python",
   "name": "python",
   "nbconvert_exporter": "python",
   "pygments_lexer": "ipython3",
   "version": "3.13.1"
  }
 },
 "nbformat": 4,
 "nbformat_minor": 5
}
